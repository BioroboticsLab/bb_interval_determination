{
 "cells": [
  {
   "cell_type": "code",
   "execution_count": 10,
   "metadata": {},
   "outputs": [],
   "source": [
    "import iso8601\n",
    "import pandas as pd\n",
    "\n",
    "import modules.analyse_ecc as aecc\n",
    "\n",
    "\n",
    "path_0 = 'derived_data/03_ecc_similarity_per_video/Cam_0.csv'\n",
    "path_1 = 'derived_data/03_ecc_similarity_per_video/Cam_1.csv'\n",
    "path_2 = 'derived_data/03_ecc_similarity_per_video/Cam_2.csv'\n",
    "accuracy = 2"
   ]
  },
  {
   "cell_type": "code",
   "execution_count": 2,
   "metadata": {},
   "outputs": [],
   "source": [
    "intervalls_0, excluded_0 = aecc.get_intervalls(path_0, accuracy)\n",
    "intervalls_1, excluded_1 = aecc.get_intervalls(path_1, accuracy)\n",
    "intervalls_2, excluded_2 = aecc.get_intervalls(path_2, accuracy)"
   ]
  },
  {
   "cell_type": "markdown",
   "metadata": {},
   "source": [
    "# Vorbereitung für das Darstellen mittels gTimeline"
   ]
  },
  {
   "cell_type": "code",
   "execution_count": 3,
   "metadata": {
    "collapsed": true
   },
   "outputs": [],
   "source": [
    "def add_tooltip(row):\n",
    "    string=\"\"\"\n",
    "    <table style=\"font-size:10px\">\n",
    "        <tr>\n",
    "            <td><b>Index:</b></td><td>{index}</td>\n",
    "        </tr>\n",
    "        <tr>\n",
    "            <td><b>Start:</b></td> <td>{time_start}</td>\n",
    "        </tr>\n",
    "         <tr>\n",
    "            <td><b>End:</b></td> <td>{time_end}</td>\n",
    "        </tr>\n",
    "        <tr>\n",
    "            <td><b>Duration:</b></td><td>{duration}</td>\n",
    "        </tr>\n",
    "        <tr>\n",
    "            <td><b>Filename Start:</b></td><td>{filename_start}</td>\n",
    "        </tr>\n",
    "        <tr>\n",
    "            <td><b>Filename End:</b></td><td>{filename_end}</td>\n",
    "        </tr>\n",
    "    </table>\n",
    "    \"\"\".format(index=row['bar_label'],\n",
    "               time_start=row['start'],\n",
    "               time_end=row['end'],\n",
    "               duration=row['duration'],\n",
    "               filename_start=row['start_video'],\n",
    "               filename_end=row['end_video'])\n",
    "    return string"
   ]
  },
  {
   "cell_type": "code",
   "execution_count": 4,
   "metadata": {
    "collapsed": true
   },
   "outputs": [],
   "source": [
    "def build_gtime_df(intervalls, label):\n",
    "    \n",
    "    df_inter = pd.DataFrame(data=intervalls, columns=['start_video', 'end_video'])\n",
    "\n",
    "    df_inter['start'] = df_inter.apply(lambda row: iso8601.parse_date(row['start_video'].split('--')[0].split('_')[2]), axis = 1)\n",
    "    df_inter['end'] = df_inter.apply(lambda row: iso8601.parse_date(row['end_video'].split('--')[1][:-4]), axis = 1)\n",
    "    df_inter['duration'] = df_inter.apply(lambda row: row['end'] - row['start'], axis=1)\n",
    "\n",
    "    df_inter['bar_label']=df_inter.index.values\n",
    "\n",
    "    df_inter['row_label'] = label\n",
    "\n",
    "    df_inter['tooltip'] = df_inter.apply(add_tooltip, axis=1)\n",
    "\n",
    "    df_inter_export = df_inter.drop(['start_video', 'end_video', 'duration'], axis=1)\n",
    "    \n",
    "    return df_inter_export"
   ]
  },
  {
   "cell_type": "code",
   "execution_count": 11,
   "metadata": {},
   "outputs": [],
   "source": [
    "df_Cam_0 = build_gtime_df(intervalls_0, 'Cam_0_ecc')\n",
    "df_Cam_1 = build_gtime_df(intervalls_1, 'Cam_1_ecc')\n",
    "df_Cam_2 = build_gtime_df(intervalls_2, 'Cam_2_ecc')\n",
    "intervals = pd.concat([df_Cam_0, df_Cam_1, df_Cam_2], axis=0, ignore_index=True)"
   ]
  },
  {
   "cell_type": "code",
   "execution_count": 13,
   "metadata": {},
   "outputs": [],
   "source": [
    "intervals.to_pickle('./derived_data/03_ecc_similarity_per_video/df_ecc_intervalls.pkl')"
   ]
  },
  {
   "cell_type": "code",
   "execution_count": null,
   "metadata": {
    "collapsed": true
   },
   "outputs": [],
   "source": [
    "g_dict = gtwrapper.create_gtimeline_dict(export_df, 'row_label', 'bar_label', 'start', 'end', 'tooltip')\n",
    "\n",
    "with open('docs/03_get_ecc_intervals/', 'w') as fp:\n",
    "    json.dump(g_dict, fp)"
   ]
  }
 ],
 "metadata": {
  "kernelspec": {
   "display_name": "Python 3",
   "language": "python",
   "name": "python3"
  },
  "language_info": {
   "codemirror_mode": {
    "name": "ipython",
    "version": 3
   },
   "file_extension": ".py",
   "mimetype": "text/x-python",
   "name": "python",
   "nbconvert_exporter": "python",
   "pygments_lexer": "ipython3",
   "version": "3.5.2"
  }
 },
 "nbformat": 4,
 "nbformat_minor": 2
}
