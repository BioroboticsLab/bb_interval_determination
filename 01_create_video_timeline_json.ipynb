{
 "cells": [
  {
   "cell_type": "markdown",
   "metadata": {},
   "source": [
    "# Was?\n",
    "\n",
    "**Stand: 17/06/19**\n",
    "\n",
    "Erstellt ein Dataframe, welcher eine Liste aller zusammenängender Videos enthält. Soll ermöglichen daraus eine Timeline zuerstellen. Videos werden als zusammenhängend betrachtet, wenn sie weniger als 1 Sekunde auseinander liegen."
   ]
  },
  {
   "cell_type": "code",
   "execution_count": 1,
   "metadata": {
    "collapsed": true
   },
   "outputs": [],
   "source": [
    "%matplotlib inline\n",
    "\n",
    "import datetime as dt\n",
    "import json\n",
    "import os\n",
    "\n",
    "import iso8601\n",
    "import matplotlib.pyplot as plt\n",
    "import numpy as np\n",
    "import pandas as pd\n",
    "\n",
    "import modules.gtimeline_wrapper as gtwrapper"
   ]
  },
  {
   "cell_type": "markdown",
   "metadata": {},
   "source": [
    "Laden der Video-Filenames und Sortierung."
   ]
  },
  {
   "cell_type": "code",
   "execution_count": 2,
   "metadata": {
    "collapsed": true
   },
   "outputs": [],
   "source": [
    "names = []\n",
    "with open(\"./raw_data/00_2016_video_names.txt\", \"r\") as f:\n",
    "    for line in f:\n",
    "        names.append(line.strip('\\n'))\n",
    "names.sort()"
   ]
  },
  {
   "cell_type": "markdown",
   "metadata": {},
   "source": [
    "# Parsen der Daten"
   ]
  },
  {
   "cell_type": "code",
   "execution_count": 3,
   "metadata": {
    "collapsed": true
   },
   "outputs": [],
   "source": [
    "df_files = pd.DataFrame(names, columns=['filename'])"
   ]
  },
  {
   "cell_type": "code",
   "execution_count": 4,
   "metadata": {
    "collapsed": true
   },
   "outputs": [],
   "source": [
    "def parse_start_time(row):\n",
    "    cam_str, interval_str = os.path.splitext(row['filename'])[0].split('_')[1:3]\n",
    "\n",
    "    time_start_str, time_end_str = interval_str.split('--')\n",
    "\n",
    "    res = iso8601.parse_date(time_start_str)\n",
    "    return res\n",
    "\n",
    "def parse_end_time(row):\n",
    "    cam_str, interval_str = os.path.splitext(row['filename'])[0].split('_')[1:3]\n",
    "\n",
    "    time_start_str, time_end_str = interval_str.split('--')\n",
    "\n",
    "    res = iso8601.parse_date(time_end_str)\n",
    "    #res = int(cam_str)\n",
    "    return res\n",
    "\n",
    "def parse_cam_id(row):\n",
    "    cam_str, interval_str = os.path.splitext(row['filename'])[0].split('_')[1:3]\n",
    "\n",
    "    time_start_str, time_end_str = interval_str.split('--')\n",
    "\n",
    "    res = int(cam_str)\n",
    "    return res"
   ]
  },
  {
   "cell_type": "code",
   "execution_count": 5,
   "metadata": {
    "collapsed": true
   },
   "outputs": [],
   "source": [
    "df_files['time_start']= df_files.apply(parse_start_time, axis = 1)\n",
    "df_files['time_end']= df_files.apply(parse_end_time, axis = 1)\n",
    "df_files['cam_id']= df_files.apply(parse_cam_id, axis = 1)"
   ]
  },
  {
   "cell_type": "markdown",
   "metadata": {},
   "source": [
    "## Bestimmen des zeitlichen Abstandes von aufeinaderfolgenden Videos"
   ]
  },
  {
   "cell_type": "code",
   "execution_count": 6,
   "metadata": {
    "collapsed": true
   },
   "outputs": [],
   "source": [
    "cam_0 = df_files[df_files['cam_id'] == 0].sort_values('filename')\n",
    "cam_1 = df_files[df_files['cam_id'] == 1].sort_values('filename')\n",
    "cam_2 = df_files[df_files['cam_id'] == 2].sort_values('filename')\n",
    "cam_3 = df_files[df_files['cam_id'] == 3].sort_values('filename')"
   ]
  },
  {
   "cell_type": "code",
   "execution_count": 7,
   "metadata": {
    "collapsed": true,
    "scrolled": true
   },
   "outputs": [],
   "source": [
    "cam_0['diff_time'] = (cam_0['time_start'] - cam_0.shift(1)['time_end'])\n",
    "cam_1['diff_time'] = (cam_1['time_start'] - cam_1.shift(1)['time_end'])\n",
    "cam_2['diff_time'] = (cam_2['time_start'] - cam_2.shift(1)['time_end'])\n",
    "cam_3['diff_time'] = (cam_3['time_start'] - cam_3.shift(1)['time_end'])"
   ]
  },
  {
   "cell_type": "markdown",
   "metadata": {},
   "source": [
    "## Bestimmen von 'zusammenhängenden' Videos\n",
    "Videos, welche einen zeitlichen Abstand geringer `< time_delta` zueinander haben, sollen als zusammenhängend betrachtet werden."
   ]
  },
  {
   "cell_type": "code",
   "execution_count": 8,
   "metadata": {
    "collapsed": true
   },
   "outputs": [],
   "source": [
    "def get_time_intervalls(data_cam, **kwargs):\n",
    "    df_intervals = []\n",
    "    curr_time_start = None\n",
    "    curr_filename_start = None\n",
    "    curr_time_end = None\n",
    "    curr_filename_end = None\n",
    "    count = 0\n",
    "    for row in data_cam.iterrows():\n",
    "        row = row[1]\n",
    "        if pd.isnull(row['diff_time']) and curr_time_start is None and curr_time_end is None:\n",
    "            curr_time_start = row['time_start']\n",
    "            curr_filename_start = row['filename']\n",
    "            curr_time_end = row['time_end']\n",
    "            curr_filename_end = row['filename']\n",
    "        elif row['diff_time'] <= dt.timedelta(**kwargs):\n",
    "            curr_time_end = row['time_end']\n",
    "            curr_filename_end = row['filename']\n",
    "        else:\n",
    "            count += 1\n",
    "            data = pd.DataFrame([[curr_time_start,curr_time_end, curr_filename_start, curr_filename_end]],\n",
    "                                columns=['time_start','time_end', 'filename_start', 'filename_end'])\n",
    "            df_intervals.append(data)\n",
    "            curr_time_start = row['time_start']\n",
    "            curr_filename_start = row['filename']\n",
    "            curr_time_end = row['time_end']\n",
    "            curr_filename_end = row['filename']\n",
    "    data = pd.DataFrame([[curr_time_start,curr_time_end, curr_filename_start, curr_filename_end]],\n",
    "                        columns=['time_start','time_end', 'filename_start', 'filename_end'])\n",
    "    df_intervals.append(data)\n",
    "    appended_data = pd.concat(df_intervals, axis=0, ignore_index=True)\n",
    "    return appended_data"
   ]
  },
  {
   "cell_type": "code",
   "execution_count": 9,
   "metadata": {
    "collapsed": true
   },
   "outputs": [],
   "source": [
    "time_delta = {'seconds': 1}"
   ]
  },
  {
   "cell_type": "code",
   "execution_count": 10,
   "metadata": {
    "collapsed": true
   },
   "outputs": [],
   "source": [
    "cam_0_intervals = get_time_intervalls(cam_0, **time_delta)\n",
    "cam_1_intervals = get_time_intervalls(cam_1, **time_delta)\n",
    "cam_2_intervals = get_time_intervalls(cam_2, **time_delta)\n",
    "cam_3_intervals = get_time_intervalls(cam_3, **time_delta)"
   ]
  },
  {
   "cell_type": "code",
   "execution_count": 22,
   "metadata": {
    "collapsed": true
   },
   "outputs": [],
   "source": [
    "cams_dfs = [cam_0, cam_1, cam_2, cam_3]"
   ]
  },
  {
   "cell_type": "code",
   "execution_count": 27,
   "metadata": {
    "collapsed": true
   },
   "outputs": [],
   "source": [
    "intervals_per_cam_dfs = []\n",
    "for cam_df in cams_dfs:\n",
    "    intervals_per_cam_dfs.append(get_time_intervalls(cam_df, **time_delta))"
   ]
  },
  {
   "cell_type": "code",
   "execution_count": 29,
   "metadata": {},
   "outputs": [],
   "source": [
    "json_intervals = []\n",
    "for cam_df in intervals_per_cam_dfs:\n",
    "    json_interval = []\n",
    "    for i, row in enumerate(cam_df.iterrows()):\n",
    "        row = row[1]\n",
    "        item = {\n",
    "                \"id\":i,\n",
    "                \"start_video_name\": row['filename_start'],\n",
    "                \"end_video_name\": row['filename_end'],\n",
    "            }\n",
    "        json_interval.append(item)\n",
    "    json_intervals.append(json_interval)"
   ]
  },
  {
   "cell_type": "code",
   "execution_count": 34,
   "metadata": {},
   "outputs": [],
   "source": [
    "for i, cam_interval in enumerate(json_intervals):\n",
    "    with open('./derived_data/01_create_video_timeline/Cam_{id}_intervals_time.json'.format(id=i), 'w') as fp:\n",
    "        json.dump(cam_interval, fp)"
   ]
  }
 ],
 "metadata": {
  "kernelspec": {
   "display_name": "Python 3",
   "language": "python",
   "name": "python3"
  },
  "language_info": {
   "codemirror_mode": {
    "name": "ipython",
    "version": 3
   },
   "file_extension": ".py",
   "mimetype": "text/x-python",
   "name": "python",
   "nbconvert_exporter": "python",
   "pygments_lexer": "ipython3",
   "version": "3.5.2"
  }
 },
 "nbformat": 4,
 "nbformat_minor": 2
}
