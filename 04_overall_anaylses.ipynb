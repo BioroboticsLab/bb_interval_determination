{
 "cells": [
  {
   "cell_type": "code",
   "execution_count": 1,
   "metadata": {
    "collapsed": true
   },
   "outputs": [],
   "source": [
    "import pandas as pd\n",
    "\n",
    "import modules.gtimeline_wrapper as gtwrapper"
   ]
  },
  {
   "cell_type": "code",
   "execution_count": 2,
   "metadata": {
    "collapsed": true
   },
   "outputs": [],
   "source": [
    "path_intervalls = pd.read_pickle('./derived_data/01_df_cam_intervalls.pkl')\n",
    "path_inter_ecc = pd.read_pickle('./derived_data/03_ecc_similarity_per_video/df_ecc_intervalls.pkl')\n",
    "path_man_marked = pd.read_pickle('./derived_data/02_man_marked_moved_frames/df_man_marked.pkl')"
   ]
  },
  {
   "cell_type": "code",
   "execution_count": 3,
   "metadata": {
    "collapsed": true
   },
   "outputs": [],
   "source": [
    "complete = pd.concat([path_intervalls, path_man_marked, path_inter_ecc])"
   ]
  },
  {
   "cell_type": "code",
   "execution_count": 4,
   "metadata": {
    "collapsed": true
   },
   "outputs": [],
   "source": [
    "g_dict = gtwrapper.create_gtimeline_dict(complete, 'row_label', 'bar_label', 'start', 'end', 'tooltip')\n",
    "\n",
    "import json\n",
    "with open('docs/overall/data.json', 'w') as fp:\n",
    "    json.dump(g_dict, fp)"
   ]
  },
  {
   "cell_type": "code",
   "execution_count": 5,
   "metadata": {
    "collapsed": true
   },
   "outputs": [],
   "source": [
    "!firefox -p develop docs/overall/overall_timeline.html"
   ]
  }
 ],
 "metadata": {
  "kernelspec": {
   "display_name": "Python 3",
   "language": "python",
   "name": "python3"
  },
  "language_info": {
   "codemirror_mode": {
    "name": "ipython",
    "version": 3
   },
   "file_extension": ".py",
   "mimetype": "text/x-python",
   "name": "python",
   "nbconvert_exporter": "python",
   "pygments_lexer": "ipython3",
   "version": "3.5.2"
  }
 },
 "nbformat": 4,
 "nbformat_minor": 2
}
