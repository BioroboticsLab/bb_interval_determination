{
 "cells": [
  {
   "cell_type": "code",
   "execution_count": 1,
   "metadata": {
    "collapsed": true
   },
   "outputs": [],
   "source": [
    "import copy\n",
    "import datetime as dt\n",
    "import json\n",
    "import operator\n",
    "import os\n",
    "\n",
    "import iso8601\n",
    "import pandas as pd\n",
    "\n",
    "import bb_binary.parsing as bbb_p\n",
    "import bb_videos_archiv.core as bb_va"
   ]
  },
  {
   "cell_type": "code",
   "execution_count": 2,
   "metadata": {
    "collapsed": true
   },
   "outputs": [],
   "source": [
    "def toggle(param):\n",
    "    if param == 'left':\n",
    "        return 'right'\n",
    "    elif param == 'right':\n",
    "        return 'left'\n",
    "    elif param ==  0:\n",
    "        return 1\n",
    "    elif param == 1:\n",
    "        return 0\n",
    "    elif param == 2:\n",
    "        return 3\n",
    "    elif param == 3:\n",
    "        return 2\n",
    "    else:\n",
    "        raise ValueError(\"Just the following values are accepted 'left', 'right', 0, 1, 2 and 3.\")"
   ]
  },
  {
   "cell_type": "code",
   "execution_count": 3,
   "metadata": {
    "collapsed": true
   },
   "outputs": [],
   "source": [
    "def get_all_video_names_sorted(path):\n",
    "    \"\"\"Dies gibt ein dict zurück, welches als keys 'Cam_0' bis 'Cam_3' enthält.\n",
    "    \n",
    "    Unter jedem key ist eine geordnete liste aller filenames enthalten.\n",
    "    \"\"\"\n",
    "    video_files = {}\n",
    "    for __,__,files in os.walk(path):\n",
    "        for file in files:\n",
    "            if file.endswith('.mkv'):\n",
    "                cam_id, __, __ = bbb_p.parse_video_fname(file)\n",
    "\n",
    "                cam_id_str = 'Cam_{id}'.format(id=cam_id)\n",
    "                if cam_id_str not in video_files:\n",
    "                    video_files[cam_id_str] = []\n",
    "\n",
    "                video_files[cam_id_str].append(file)\n",
    "\n",
    "    for key in video_files.keys():\n",
    "        video_files[key].sort()\n",
    "    return video_files"
   ]
  },
  {
   "cell_type": "code",
   "execution_count": 4,
   "metadata": {
    "collapsed": true
   },
   "outputs": [],
   "source": [
    "PATHS_JSON_INTPUT = '05c_Cam_{cam_id}_intervals_ecc_stable_join_man.json'\n",
    "DOC_PATH = '../docs'\n",
    "ROOT_DIR = './videos_proxy'\n",
    "YEAR = '2016'\n",
    "THOLD = dt.timedelta(seconds=90)\n",
    "\n",
    "SIDE_A_LEFT_CAM = 0\n",
    "SIDE_A_RIGHT_CAM =1\n",
    "SIDE_A_OUTPUT = '06_Cam_01_intervals_pair.json'\n",
    "\n",
    "SIDE_B_LEFT_CAM = 2\n",
    "SIDE_B_RIGHT_CAM = 3\n",
    "SIDE_B_OUTPUT = '06_Cam_23_intervals_pair.json'\n",
    "\n",
    "VIDEO_FILE_NAMES = get_all_video_names_sorted(ROOT_DIR)"
   ]
  },
  {
   "cell_type": "code",
   "execution_count": 5,
   "metadata": {
    "collapsed": true
   },
   "outputs": [],
   "source": [
    "def read_n_parse_json(path):\n",
    "    df = pd.read_json(path)\n",
    "    df['cam_id'] = df.apply(lambda row: bbb_p.parse_video_fname(row['start_video_name'])[0], axis=1)\n",
    "    df['ts_start'] = df.apply(lambda row: bbb_p.parse_video_fname(row['start_video_name'])[1], axis=1)\n",
    "    df['ts_end'] = df.apply(lambda row: bbb_p.parse_video_fname(row['end_video_name'])[2], axis=1)\n",
    "    return df"
   ]
  },
  {
   "cell_type": "markdown",
   "metadata": {},
   "source": [
    "# Load intervals and parse needed values."
   ]
  },
  {
   "cell_type": "code",
   "execution_count": 6,
   "metadata": {
    "collapsed": true
   },
   "outputs": [],
   "source": [
    "dataframes = [] \n",
    "for i in range(4):\n",
    "    path = PATHS_JSON_INTPUT.format(cam_id=i)\n",
    "    dataframes.append(read_n_parse_json(path))\n",
    "df = pd.concat(dataframes, axis=0, ignore_index=True)\n",
    "df = df.sort_values(by='ts_start', ascending=False).reset_index(drop=True)"
   ]
  },
  {
   "cell_type": "code",
   "execution_count": 7,
   "metadata": {},
   "outputs": [
    {
     "data": {
      "text/html": [
       "<div>\n",
       "<table border=\"1\" class=\"dataframe\">\n",
       "  <thead>\n",
       "    <tr style=\"text-align: right;\">\n",
       "      <th></th>\n",
       "      <th>end_video_name</th>\n",
       "      <th>id</th>\n",
       "      <th>info</th>\n",
       "      <th>stable</th>\n",
       "      <th>start_video_name</th>\n",
       "      <th>cam_id</th>\n",
       "      <th>ts_start</th>\n",
       "      <th>ts_end</th>\n",
       "    </tr>\n",
       "  </thead>\n",
       "  <tbody>\n",
       "    <tr>\n",
       "      <th>0</th>\n",
       "      <td>Cam_0_2016-09-19T08:40:12.278788Z--2016-09-19T...</td>\n",
       "      <td>19</td>\n",
       "      <td>last interval</td>\n",
       "      <td>True</td>\n",
       "      <td>Cam_0_2016-09-14T15:19:20.096810Z--2016-09-14T...</td>\n",
       "      <td>0</td>\n",
       "      <td>2016-09-14 15:19:20.096810+00:00</td>\n",
       "      <td>2016-09-19 08:45:52.125778+00:00</td>\n",
       "    </tr>\n",
       "    <tr>\n",
       "      <th>1</th>\n",
       "      <td>Cam_2_2016-09-19T06:39:06.541317Z--2016-09-19T...</td>\n",
       "      <td>23</td>\n",
       "      <td>manuell connected</td>\n",
       "      <td>True</td>\n",
       "      <td>Cam_2_2016-08-30T14:25:42.806085Z--2016-08-30T...</td>\n",
       "      <td>2</td>\n",
       "      <td>2016-08-30 14:25:42.806085+00:00</td>\n",
       "      <td>2016-09-19 06:44:53.695644+00:00</td>\n",
       "    </tr>\n",
       "    <tr>\n",
       "      <th>2</th>\n",
       "      <td>Cam_3_2016-09-19T06:40:29.591957Z--2016-09-19T...</td>\n",
       "      <td>27</td>\n",
       "      <td>manuell connected</td>\n",
       "      <td>True</td>\n",
       "      <td>Cam_3_2016-08-23T07:12:20.761501Z--2016-08-23T...</td>\n",
       "      <td>3</td>\n",
       "      <td>2016-08-23 07:12:20.761501+00:00</td>\n",
       "      <td>2016-09-19 06:46:16.414852+00:00</td>\n",
       "    </tr>\n",
       "    <tr>\n",
       "      <th>3</th>\n",
       "      <td>Cam_1_2016-09-19T08:40:14.275312Z--2016-09-19T...</td>\n",
       "      <td>21</td>\n",
       "      <td>last interval</td>\n",
       "      <td>True</td>\n",
       "      <td>Cam_1_2016-08-21T16:46:43.637656Z--2016-08-21T...</td>\n",
       "      <td>1</td>\n",
       "      <td>2016-08-21 16:46:43.637656+00:00</td>\n",
       "      <td>2016-09-19 08:45:54.119255+00:00</td>\n",
       "    </tr>\n",
       "  </tbody>\n",
       "</table>\n",
       "</div>"
      ],
      "text/plain": [
       "                                      end_video_name  id               info  \\\n",
       "0  Cam_0_2016-09-19T08:40:12.278788Z--2016-09-19T...  19      last interval   \n",
       "1  Cam_2_2016-09-19T06:39:06.541317Z--2016-09-19T...  23  manuell connected   \n",
       "2  Cam_3_2016-09-19T06:40:29.591957Z--2016-09-19T...  27  manuell connected   \n",
       "3  Cam_1_2016-09-19T08:40:14.275312Z--2016-09-19T...  21      last interval   \n",
       "\n",
       "  stable                                   start_video_name  cam_id  \\\n",
       "0   True  Cam_0_2016-09-14T15:19:20.096810Z--2016-09-14T...       0   \n",
       "1   True  Cam_2_2016-08-30T14:25:42.806085Z--2016-08-30T...       2   \n",
       "2   True  Cam_3_2016-08-23T07:12:20.761501Z--2016-08-23T...       3   \n",
       "3   True  Cam_1_2016-08-21T16:46:43.637656Z--2016-08-21T...       1   \n",
       "\n",
       "                          ts_start                           ts_end  \n",
       "0 2016-09-14 15:19:20.096810+00:00 2016-09-19 08:45:52.125778+00:00  \n",
       "1 2016-08-30 14:25:42.806085+00:00 2016-09-19 06:44:53.695644+00:00  \n",
       "2 2016-08-23 07:12:20.761501+00:00 2016-09-19 06:46:16.414852+00:00  \n",
       "3 2016-08-21 16:46:43.637656+00:00 2016-09-19 08:45:54.119255+00:00  "
      ]
     },
     "execution_count": 7,
     "metadata": {},
     "output_type": "execute_result"
    }
   ],
   "source": [
    "df[:4]"
   ]
  },
  {
   "cell_type": "markdown",
   "metadata": {},
   "source": [
    "# Join start timestamps of intervals from the left and right side of comb"
   ]
  },
  {
   "cell_type": "code",
   "execution_count": 8,
   "metadata": {
    "collapsed": true
   },
   "outputs": [],
   "source": [
    "def get_start_of_shared_intervals(sorted_data, cam_id_left, cam_id_right, thold):\n",
    "    \"\"\"This function gets all start timestamps from the 'left' and 'right' side of the comb.\n",
    "    \n",
    "    If timestamps of the 'left' and 'right' side of the comb are close to each other (`< thold`),\n",
    "    then they are considered to be associated with the same interval.\n",
    "    \n",
    "    Args:\n",
    "        sorted_data (df): see above\n",
    "        cam_id_left (int):\n",
    "        cam_id_right (int):\n",
    "        thold (datetime.timedelta): see function description.\n",
    "    \n",
    "    Return:\n",
    "        json (see below)\n",
    "    \"\"\"\n",
    "    concat = False\n",
    "    shared_intervals = []\n",
    "    memory = None\n",
    "    id_sh = 0\n",
    "    for i, (idx_i, row_older) in enumerate(sorted_data.iterrows()):\n",
    "\n",
    "        # Intervall besteht aus start und entpunkt, als gesamte Zeitangabe und dann jeweils die entsprechendenden Videos\n",
    "        # für jede Kamera\n",
    "        shared_interval = {}\n",
    "        export_keys = ['stable', 'id', 'info', 'start_video_name', 'ts_start', 'cam_id']\n",
    "        \n",
    "        side = 'left' if row_older['cam_id'] == cam_id_left else 'right'\n",
    "\n",
    "        shared_interval[side] = {}\n",
    "        for key in export_keys:\n",
    "            shared_interval[side][key] = row_older[key]\n",
    "        shared_interval[toggle(side)] = memory\n",
    "\n",
    "        if memory is not None:\n",
    "            memory = None\n",
    "            shared_interval['id'] = id_sh\n",
    "            id_sh += 1\n",
    "            shared_intervals.append(shared_interval)\n",
    "            continue\n",
    "\n",
    "        row_younger = sorted_data.iloc[i+1]\n",
    "\n",
    "        if row_younger['cam_id'] == row_older['cam_id']: \n",
    "            shared_interval['id'] = id_sh\n",
    "            id_sh += 1\n",
    "            shared_intervals.append(shared_interval)\n",
    "        else:\n",
    "            if (row_older['ts_start'] - row_younger['ts_start']) < thold:\n",
    "                memory = {}\n",
    "                for key in export_keys:\n",
    "                    memory[key] = row_older[key]\n",
    "            else:\n",
    "                shared_interval['id'] = id_sh\n",
    "                id_sh += 1\n",
    "                shared_intervals.append(shared_interval)\n",
    "    return shared_intervals"
   ]
  },
  {
   "cell_type": "raw",
   "metadata": {},
   "source": [
    "cam_id_left = SIDE_A_LEFT_CAM\n",
    "cam_id_right = SIDE_A_RIGHT_CAM"
   ]
  },
  {
   "cell_type": "raw",
   "metadata": {},
   "source": [
    "sorted_data = df[((df.cam_id ==cam_id_left) | (df.cam_id == cam_id_right))]\n",
    "shared_intervals = get_start_of_shared_intervals(sorted_data, cam_id_left, cam_id_right, THOLD)"
   ]
  },
  {
   "cell_type": "markdown",
   "metadata": {},
   "source": [
    "`shared_intervals` looks like this:\n",
    "```json\n",
    "[..\n",
    "{'id': 5,\n",
    "  'left': {'cam_id': 0,\n",
    "   'id': 17,\n",
    "   'info': 'manuell connected',\n",
    "   'stable': True,\n",
    "   'start_video_name': 'Cam_0_2016-08-03T13:11:49.717921Z--2016-08-03T13:17:29.562534Z.mkv',\n",
    "   'ts_start': Timestamp('2016-08-03 13:11:49.717921+0000', tz='<iso8601.Utc>')},\n",
    "  'right': {'cam_id': 1,\n",
    "   'id': 18,\n",
    "   'info': 'ecc stable',\n",
    "   'stable': True,\n",
    "   'start_video_name': 'Cam_1_2016-08-03T13:11:48.360014Z--2016-08-03T13:17:28.233244Z.mkv',\n",
    "   'ts_start': Timestamp('2016-08-03 13:11:48.360014+0000', tz='<iso8601.Utc>')}},\n",
    " {'id': 6,\n",
    "  'left': None,\n",
    "  'right': {'cam_id': 1,\n",
    "   'id': 17,\n",
    "   'info': 'manuell connected',\n",
    "   'stable': True,\n",
    "   'start_video_name': 'Cam_1_2016-08-03T11:02:12.211250Z--2016-08-03T11:06:49.270722Z.mkv',\n",
    "   'ts_start': Timestamp('2016-08-03 11:02:12.211250+0000', tz='<iso8601.Utc>')}},\n",
    "   ..]\n",
    "```"
   ]
  },
  {
   "cell_type": "markdown",
   "metadata": {},
   "source": [
    "-------"
   ]
  },
  {
   "cell_type": "markdown",
   "metadata": {},
   "source": [
    "# Find closest video\n",
    "Since the intervals do not contain a start video for each side, we determine these first."
   ]
  },
  {
   "cell_type": "code",
   "execution_count": 9,
   "metadata": {
    "collapsed": true
   },
   "outputs": [],
   "source": [
    "def get_closest_video(ts, sorted_video_files, th):\n",
    "    \"\"\"Find the closest video to the given timestamp `ts`.\n",
    "    \n",
    "    If the timestamp `ts` is near the end of an video `< th`,\n",
    "    then the next video will be returned.\n",
    "    \n",
    "    Args:\n",
    "        ts(datetime):\n",
    "        sorted_video_files(list):\n",
    "        th(datetime.timedelta): \n",
    "    \n",
    "    Returns:\n",
    "        video_file (string)\n",
    "    \"\"\"\n",
    "    time_delta = dt.timedelta(seconds=th)\n",
    "    for i, video in enumerate(sorted_video_files):\n",
    "        __, ts_start, ts_end = bbb_p.parse_video_fname(video)\n",
    "        if ts_start < ts:\n",
    "            if ts < ts_end:\n",
    "                if ts_end - ts < time_delta and (i < len(sorted_video_files) -1):\n",
    "                    return sorted_video_files[i+1]\n",
    "                else:\n",
    "                    return video\n",
    "            else:\n",
    "                continue\n",
    "        else:\n",
    "            return video"
   ]
  },
  {
   "cell_type": "code",
   "execution_count": 10,
   "metadata": {
    "collapsed": true
   },
   "outputs": [],
   "source": [
    "def extend_closest_videos(intervals):\n",
    "    \"\"\"Determines for every shared interval in `intervals` the start_video of the left or right side.\n",
    "    \n",
    "    Args:\n",
    "        intervals(json)\n",
    "    \n",
    "    Returns:\n",
    "        (json) extended with `start_video_name` for each side.\n",
    "    \"\"\"\n",
    "    for i, interval in enumerate(intervals):\n",
    "        for key in ['left', 'right']:\n",
    "            if interval[key] is None:\n",
    "                exist_key = toggle(key)\n",
    "                non_exist_cam = toggle(interval[exist_key]['cam_id'])\n",
    "                ts = interval[exist_key]['ts_start']\n",
    "                ts = ts.strftime('%Y-%m-%dT%H:%M:%S.%fZ')\n",
    "                ts = iso8601.parse_date(ts)\n",
    "                cam_id_str = 'Cam_{id}'.format(id=non_exist_cam)\n",
    "                video = get_closest_video(ts, VIDEO_FILE_NAMES[cam_id_str], 5)\n",
    "                \n",
    "                __, ts_start_video, __= bbb_p.parse_fname(video)\n",
    "                time_delta = dt.timedelta(minutes=30)\n",
    "                \n",
    "                if (abs(ts_start_video-ts) < time_delta):\n",
    "                    interval[key] = {}\n",
    "                    interval[key]['start_video_name'] = video\n",
    "                    interval[key]['stable'] = intervals[i-1][key]['stable']\n",
    "                    interval[key]['cam_id'], interval[key]['ts_start']= bbb_p.parse_video_fname(video)[:2]\n",
    "                    interval[key]['info'] = 'closest video'\n",
    "    return intervals"
   ]
  },
  {
   "cell_type": "raw",
   "metadata": {},
   "source": [
    "extended_shared_intervals = extend_closest_videos(shared_intervals)\n",
    "shared_intervals_valid_json_01 = extended_shared_intervals[::-1]"
   ]
  },
  {
   "cell_type": "markdown",
   "metadata": {},
   "source": [
    "`extended_shared_intervals` now looks like this (compare it to the above `shared_intervals`):\n",
    "\n",
    "```json\n",
    "[\n",
    "...\n",
    "{'id': 6,\n",
    "  'left': {'cam_id': 0,\n",
    "   'info': 'closest video',\n",
    "   'stable': True,\n",
    "   'start_video_name': 'Cam_0_2016-08-03T11:02:12.547517Z--2016-08-03T11:06:49.270713Z.mkv',\n",
    "   'ts_start': datetime.datetime(2016, 8, 3, 11, 2, 12, 547517, tzinfo=<iso8601.Utc>)},\n",
    "  'right': {'cam_id': 1,\n",
    "   'id': 17,\n",
    "   'info': 'manuell connected',\n",
    "   'stable': True,\n",
    "   'start_video_name': 'Cam_1_2016-08-03T11:02:12.211250Z--2016-08-03T11:06:49.270722Z.mkv',\n",
    "   'ts_start': Timestamp('2016-08-03 11:02:12.211250+0000', tz='<iso8601.Utc>')}},\n",
    " ...\n",
    "]\n",
    "```\n",
    "In this case the `left` side is extended."
   ]
  },
  {
   "cell_type": "markdown",
   "metadata": {},
   "source": [
    "# Determine the end_video of every interval per side and mark intervals as stable."
   ]
  },
  {
   "cell_type": "code",
   "execution_count": 11,
   "metadata": {
    "collapsed": true
   },
   "outputs": [],
   "source": [
    "def get_stable_info(df, cam_id, ts_start, ts_end):\n",
    "    \"\"\"Retrun the information if the interval from `ts_start` to `ts_end` is stable.\n",
    "    \n",
    "    df (df): dataframe with all initial intervals, which contains the information if they are stable or not.\n",
    "    cam_id (int): Id of the camera\n",
    "    ts_start (datetime): Start of the interval.\n",
    "    ts_end (datetime): End of the interval.\n",
    "    \"\"\"\n",
    "    result = df[((df.cam_id ==cam_id) & (df.ts_start <= ts_start) & (ts_end <= df.ts_end))]\n",
    "    if len(result) == 1:\n",
    "        return bool(result['stable'].values[0])\n",
    "    else:\n",
    "        print(ts_start)\n",
    "        print(ts_end)\n",
    "        print(cam_id)\n",
    "        return True\n",
    "        raise Exception('Es gibt mehr als ein Interval in dem dieses \"beschnitte\" Interval liegt, das sollte nicht möglich sein!')"
   ]
  },
  {
   "cell_type": "code",
   "execution_count": 12,
   "metadata": {
    "collapsed": true
   },
   "outputs": [],
   "source": [
    "def extend_end_video_name(intervals, video_files):\n",
    "    \"\"\"Extend `interval` with the information about the last video of a interval per side.\n",
    "    \n",
    "    intervals(json):\n",
    "    video_files(list):\n",
    "    \"\"\"\n",
    "    for idx, interval in enumerate(intervals):\n",
    "        for key in ['left', 'right']:\n",
    "            \n",
    "            if interval[key] is not None:\n",
    "                cam_id_str = 'Cam_{id}'.format(id=interval[key]['cam_id'])\n",
    "                curr_idx = idx + 1\n",
    "                # falls das folgende Interval leer ist \n",
    "                while curr_idx  < len(intervals) and intervals[curr_idx][key] is None:\n",
    "                    curr_idx = curr_idx + 1\n",
    "\n",
    "                if curr_idx  < len(intervals) and intervals[curr_idx][key] is not None:\n",
    "                    next_start_video = intervals[curr_idx][key]['start_video_name']\n",
    "                    next_idx = video_files[cam_id_str].index(next_start_video)\n",
    "                    end_idx = next_idx - 1\n",
    "                    interval[key]['end_video_name'] = video_files[cam_id_str][end_idx]\n",
    "                    __, __, interval[key]['ts_end'] = bbb_p.parse_video_fname(interval[key]['end_video_name'])\n",
    "                    interval[key]['stable'] = get_stable_info(df, interval[key]['cam_id'],interval[key]['ts_start'], interval[key]['ts_end'])\n",
    "                if curr_idx == len(intervals):\n",
    "                    interval[key]['end_video_name'] = video_files[cam_id_str][-1]\n",
    "                    __, __, interval[key]['ts_end'] = bbb_p.parse_video_fname(interval[key]['end_video_name'])\n",
    "                    interval[key]['stable'] = get_stable_info(df, interval[key]['cam_id'],interval[key]['ts_start'], interval[key]['ts_end'])"
   ]
  },
  {
   "cell_type": "raw",
   "metadata": {},
   "source": [
    "extend_end_video_name(shared_intervals_valid_json_01, VIDEO_FILE_NAMES)"
   ]
  },
  {
   "cell_type": "markdown",
   "metadata": {},
   "source": [
    "`shared_intervals_valid_json_01`\n",
    "```json\n",
    "[\n",
    "...\n",
    "{'id': 6,\n",
    "  'left': {'cam_id': 0,\n",
    "   'end_video_name': 'Cam_0_2016-08-03T11:14:10.077586Z--2016-08-03T11:17:04.485231Z.mkv',\n",
    "   'info': 'closest video',\n",
    "   'stable': True,\n",
    "   'start_video_name': 'Cam_0_2016-08-03T11:02:12.547517Z--2016-08-03T11:06:49.270713Z.mkv',\n",
    "   'ts_end': datetime.datetime(2016, 8, 3, 11, 17, 4, 485231, tzinfo=<iso8601.Utc>),\n",
    "   'ts_start': datetime.datetime(2016, 8, 3, 11, 2, 12, 547517, tzinfo=<iso8601.Utc>)},\n",
    "  'right': {'cam_id': 1,\n",
    "   'end_video_name': 'Cam_1_2016-08-03T11:14:10.077634Z--2016-08-03T11:17:04.485290Z.mkv',\n",
    "   'id': 17,\n",
    "   'info': 'manuell connected',\n",
    "   'stable': True,\n",
    "   'start_video_name': 'Cam_1_2016-08-03T11:02:12.211250Z--2016-08-03T11:06:49.270722Z.mkv',\n",
    "   'ts_end': datetime.datetime(2016, 8, 3, 11, 17, 4, 485290, tzinfo=<iso8601.Utc>),\n",
    "   'ts_start': Timestamp('2016-08-03 11:02:12.211250+0000', tz='<iso8601.Utc>')}},\n",
    "...\n",
    "]\n",
    "```"
   ]
  },
  {
   "cell_type": "markdown",
   "metadata": {},
   "source": [
    "# Convert to valid json (no datetime)"
   ]
  },
  {
   "cell_type": "code",
   "execution_count": 13,
   "metadata": {
    "collapsed": true
   },
   "outputs": [],
   "source": [
    "def convert_2_valid_json(shared_intervals):\n",
    "    shared_intervals_valid_json = []\n",
    "    for interval in shared_intervals:\n",
    "        valid_interval = copy.deepcopy(interval)\n",
    "        valid_interval['id'] = len(shared_intervals) - valid_interval['id'] - 1\n",
    "        for key in ['left', 'right']:\n",
    "            if valid_interval[key] is not None:\n",
    "                for key_ts in ['ts_start', 'ts_end']:\n",
    "                    if key_ts in interval[key]:\n",
    "                        valid_interval[key][key_ts] = interval[key][key_ts].strftime('%Y-%m-%dT%H:%M:%S.%fZ')\n",
    "\n",
    "        for key_ts in ['ts_start', 'ts_end']:\n",
    "            if key_ts in interval:\n",
    "                valid_interval[key_ts] = interval[key_ts].strftime('%Y-%m-%dT%H:%M:%S.%fZ')\n",
    "        shared_intervals_valid_json.append(valid_interval)\n",
    "    return shared_intervals_valid_json"
   ]
  },
  {
   "cell_type": "raw",
   "metadata": {},
   "source": [
    "converted_01 = convert_2_valid_json(shared_intervals_valid_json_01)"
   ]
  },
  {
   "cell_type": "markdown",
   "metadata": {},
   "source": [
    "# Determine shared start and end of intervals"
   ]
  },
  {
   "cell_type": "code",
   "execution_count": 14,
   "metadata": {
    "collapsed": true
   },
   "outputs": [],
   "source": [
    "def extend_overall_interval(intervals):\n",
    "    \"\"\"Bestimmt Anfangs und Endzeitpunkt des gemeinsamen Intervals und markiert ein gemeinsames\n",
    "    Interval als stable, wenn beide Videos stable sind.\"\"\"\n",
    "    def _set_interval_key(interval, key, relate):\n",
    "        if interval['left'] is not None and interval['right'] is not None:\n",
    "            if relate(interval['left'][key], interval['right'][key]):\n",
    "                interval[key] = interval['left'][key]\n",
    "            else:\n",
    "                interval[key] = interval['right'][key]\n",
    "        else:\n",
    "            if interval['left'] is None:\n",
    "                interval[key] = interval['right'][key]\n",
    "            else:\n",
    "                interval[key] = interval['left'][key]\n",
    "\n",
    "    for i, interval in enumerate(intervals):\n",
    "        _set_interval_key(interval, 'ts_start', operator.lt)\n",
    "        _set_interval_key(interval, 'ts_end', operator.gt)\n",
    "        if interval['left'] is None:\n",
    "            interval['stable'] = interval['right']['stable']\n",
    "        elif interval['right'] is None:\n",
    "            interval['stable'] = interval['left']['stable']\n",
    "        else:\n",
    "            interval['stable'] = interval['left']['stable'] and interval['right']['stable']"
   ]
  },
  {
   "cell_type": "raw",
   "metadata": {},
   "source": [
    "extend_overall_interval(converted_01)"
   ]
  },
  {
   "cell_type": "markdown",
   "metadata": {},
   "source": [
    "converted_01\n",
    "```json\n",
    "[...\n",
    "{'id': 6,\n",
    "  'left': {'cam_id': 0,\n",
    "   'end_video_name': 'Cam_0_2016-07-27T14:59:16.877336Z--2016-07-27T15:04:56.723083Z.mkv',\n",
    "   'id': 6,\n",
    "   'info': 'ecc double movement',\n",
    "   'stable': False,\n",
    "   'start_video_name': 'Cam_0_2016-07-27T14:59:16.877336Z--2016-07-27T15:04:56.723083Z.mkv',\n",
    "   'ts_end': '2016-07-27T15:04:56.723083Z',\n",
    "   'ts_start': '2016-07-27T14:59:16.877336Z'},\n",
    "  'right': {'cam_id': 1,\n",
    "   'end_video_name': 'Cam_1_2016-07-27T14:59:17.210304Z--2016-07-27T15:04:57.056134Z.mkv',\n",
    "   'id': 6,\n",
    "   'info': 'ecc double movement',\n",
    "   'stable': False,\n",
    "   'start_video_name': 'Cam_1_2016-07-27T14:59:17.210304Z--2016-07-27T15:04:57.056134Z.mkv',\n",
    "   'ts_end': '2016-07-27T15:04:57.056134Z',\n",
    "   'ts_start': '2016-07-27T14:59:17.210304Z'},\n",
    "  'stable': False,\n",
    "  'ts_end': '2016-07-27T15:04:57.056134Z',\n",
    "  'ts_start': '2016-07-27T14:59:16.877336Z'},\n",
    "...\n",
    "]\n",
    "```"
   ]
  },
  {
   "cell_type": "markdown",
   "metadata": {},
   "source": [
    "# Storing"
   ]
  },
  {
   "cell_type": "code",
   "execution_count": 15,
   "metadata": {
    "collapsed": true
   },
   "outputs": [],
   "source": [
    "def save_2_doc_n_locally(json_data, doc_path, filename):\n",
    "    with open(filename, 'w') as fp:\n",
    "        json.dump(json_data, fp, sort_keys=True, indent=2)\n",
    "    \n",
    "    with open(os.path.join(doc_path, filename), 'w') as fp:\n",
    "        json.dump(json_data, fp, sort_keys=True, indent=2)"
   ]
  },
  {
   "cell_type": "markdown",
   "metadata": {},
   "source": [
    "-------\n",
    "\n",
    "-------\n",
    "\n",
    "------"
   ]
  },
  {
   "cell_type": "code",
   "execution_count": null,
   "metadata": {
    "collapsed": true
   },
   "outputs": [],
   "source": [
    "def do_all(cam_id_left, cam_id_right, filename):\n",
    "    sorted_data = df[((df.cam_id ==cam_id_left) | (df.cam_id == cam_id_right))]\n",
    "    shared_intervals = get_start_of_shared_intervals(sorted_data, cam_id_left, cam_id_right, THOLD)\n",
    "    extended_shared_intervals = extend_closest_videos(shared_intervals)\n",
    "    shared_intervals_valid_json = extended_shared_intervals[::-1]\n",
    "    extend_end_video_name(shared_intervals_valid_json, VIDEO_FILE_NAMES)\n",
    "    converted = convert_2_valid_json(shared_intervals_valid_json)\n",
    "    extend_overall_interval(converted)\n",
    "    save_2_doc_n_locally(converted, DOC_PATH, filename)"
   ]
  },
  {
   "cell_type": "code",
   "execution_count": null,
   "metadata": {
    "collapsed": true
   },
   "outputs": [],
   "source": [
    "do_all(SIDE_A_LEFT_CAM,SIDE_A_RIGHT_CAM, SIDE_A_OUTPUT)\n",
    "do_all(SIDE_B_LEFT_CAM,SIDE_B_RIGHT_CAM, SIDE_B_OUTPUT)"
   ]
  }
 ],
 "metadata": {
  "kernelspec": {
   "display_name": "Python 3",
   "language": "python",
   "name": "python3"
  },
  "language_info": {
   "codemirror_mode": {
    "name": "ipython",
    "version": 3
   },
   "file_extension": ".py",
   "mimetype": "text/x-python",
   "name": "python",
   "nbconvert_exporter": "python",
   "pygments_lexer": "ipython3",
   "version": "3.5.2"
  }
 },
 "nbformat": 4,
 "nbformat_minor": 2
}
