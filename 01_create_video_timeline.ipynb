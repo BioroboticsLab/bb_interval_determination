{
 "cells": [
  {
   "cell_type": "markdown",
   "metadata": {},
   "source": [
    "# Was?\n",
    "\n",
    "**Stand: 17/06/19**\n",
    "\n",
    "Erstellt ein Dataframe, welcher eine Liste aller zusammenängender Videos enthält. Soll ermöglichen daraus eine Timeline zuerstellen."
   ]
  },
  {
   "cell_type": "code",
   "execution_count": 25,
   "metadata": {
    "collapsed": true
   },
   "outputs": [],
   "source": [
    "%matplotlib inline\n",
    "\n",
    "import datetime as dt\n",
    "import json\n",
    "import os\n",
    "\n",
    "import iso8601\n",
    "import matplotlib.pyplot as plt\n",
    "import numpy as np\n",
    "import pandas as pd\n",
    "\n",
    "import modules.gtimeline_wrapper as gtwrapper"
   ]
  },
  {
   "cell_type": "markdown",
   "metadata": {},
   "source": [
    "Laden der Video-Filenames und Sortierung."
   ]
  },
  {
   "cell_type": "code",
   "execution_count": 2,
   "metadata": {
    "collapsed": true
   },
   "outputs": [],
   "source": [
    "names = []\n",
    "with open(\"./raw_data/00_2016_video_names.txt\", \"r\") as f:\n",
    "    for line in f:\n",
    "        names.append(line.strip('\\n'))\n",
    "names.sort()"
   ]
  },
  {
   "cell_type": "markdown",
   "metadata": {},
   "source": [
    "# Parsen der Daten"
   ]
  },
  {
   "cell_type": "code",
   "execution_count": 3,
   "metadata": {
    "collapsed": true
   },
   "outputs": [],
   "source": [
    "df_files = pd.DataFrame(names, columns=['filename'])"
   ]
  },
  {
   "cell_type": "code",
   "execution_count": 4,
   "metadata": {
    "collapsed": true
   },
   "outputs": [],
   "source": [
    "def parse_start_time(row):\n",
    "    cam_str, interval_str = os.path.splitext(row['filename'])[0].split('_')[1:3]\n",
    "\n",
    "    time_start_str, time_end_str = interval_str.split('--')\n",
    "\n",
    "    res = iso8601.parse_date(time_start_str)\n",
    "    return res\n",
    "\n",
    "def parse_end_time(row):\n",
    "    cam_str, interval_str = os.path.splitext(row['filename'])[0].split('_')[1:3]\n",
    "\n",
    "    time_start_str, time_end_str = interval_str.split('--')\n",
    "\n",
    "    res = iso8601.parse_date(time_end_str)\n",
    "    #res = int(cam_str)\n",
    "    return res\n",
    "\n",
    "def parse_cam_id(row):\n",
    "    cam_str, interval_str = os.path.splitext(row['filename'])[0].split('_')[1:3]\n",
    "\n",
    "    time_start_str, time_end_str = interval_str.split('--')\n",
    "\n",
    "    res = int(cam_str)\n",
    "    return res"
   ]
  },
  {
   "cell_type": "code",
   "execution_count": 5,
   "metadata": {
    "collapsed": true
   },
   "outputs": [],
   "source": [
    "df_files['time_start']= df_files.apply(parse_start_time, axis = 1)\n",
    "df_files['time_end']= df_files.apply(parse_end_time, axis = 1)\n",
    "df_files['cam_id']= df_files.apply(parse_cam_id, axis = 1)"
   ]
  },
  {
   "cell_type": "markdown",
   "metadata": {},
   "source": [
    "## Bestimmen des zeitlichen Abstandes von aufeinaderfolgenden Videos"
   ]
  },
  {
   "cell_type": "code",
   "execution_count": 6,
   "metadata": {
    "collapsed": true
   },
   "outputs": [],
   "source": [
    "cam_0 = df_files[df_files['cam_id'] == 0].sort_values('filename')\n",
    "cam_1 = df_files[df_files['cam_id'] == 1].sort_values('filename')\n",
    "cam_2 = df_files[df_files['cam_id'] == 2].sort_values('filename')\n",
    "cam_3 = df_files[df_files['cam_id'] == 3].sort_values('filename')"
   ]
  },
  {
   "cell_type": "code",
   "execution_count": 7,
   "metadata": {
    "collapsed": true,
    "scrolled": true
   },
   "outputs": [],
   "source": [
    "cam_0['diff_time'] = (cam_0['time_start'] - cam_0.shift(1)['time_end'])\n",
    "cam_1['diff_time'] = (cam_1['time_start'] - cam_1.shift(1)['time_end'])\n",
    "cam_2['diff_time'] = (cam_2['time_start'] - cam_2.shift(1)['time_end'])\n",
    "cam_3['diff_time'] = (cam_3['time_start'] - cam_3.shift(1)['time_end'])"
   ]
  },
  {
   "cell_type": "markdown",
   "metadata": {},
   "source": [
    "## Bestimmen von 'zusammenhängenden' Videos\n",
    "Videos, welche einen zeitlichen Abstand geringer `< time_delta` zueinander haben, sollen als zusammenhängend betrachtet werden."
   ]
  },
  {
   "cell_type": "code",
   "execution_count": 8,
   "metadata": {
    "collapsed": true
   },
   "outputs": [],
   "source": [
    "def get_time_intervalls(data_cam, **kwargs):\n",
    "    df_intervals = []\n",
    "    curr_time_start = None\n",
    "    curr_filename_start = None\n",
    "    curr_time_end = None\n",
    "    curr_filename_end = None\n",
    "    count = 0\n",
    "    for row in data_cam.iterrows():\n",
    "        row = row[1]\n",
    "        if pd.isnull(row['diff_time']) and curr_time_start is None and curr_time_end is None:\n",
    "            curr_time_start = row['time_start']\n",
    "            curr_filename_start = row['filename']\n",
    "            curr_time_end = row['time_end']\n",
    "            curr_filename_end = row['filename']\n",
    "        elif row['diff_time'] <= dt.timedelta(**kwargs):\n",
    "            curr_time_end = row['time_end']\n",
    "            curr_filename_end = row['filename']\n",
    "        else:\n",
    "            count += 1\n",
    "            data = pd.DataFrame([[curr_time_start,curr_time_end, curr_filename_start, curr_filename_end]],\n",
    "                                columns=['time_start','time_end', 'filename_start', 'filename_end'])\n",
    "            df_intervals.append(data)\n",
    "            curr_time_start = row['time_start']\n",
    "            curr_filename_start = row['filename']\n",
    "            curr_time_end = row['time_end']\n",
    "            curr_filename_end = row['filename']\n",
    "    data = pd.DataFrame([[curr_time_start,curr_time_end, curr_filename_start, curr_filename_end]],\n",
    "                        columns=['time_start','time_end', 'filename_start', 'filename_end'])\n",
    "    df_intervals.append(data)\n",
    "    appended_data = pd.concat(df_intervals, axis=0, ignore_index=True)\n",
    "    return appended_data"
   ]
  },
  {
   "cell_type": "code",
   "execution_count": 9,
   "metadata": {
    "collapsed": true
   },
   "outputs": [],
   "source": [
    "time_delta = {'seconds': 1}"
   ]
  },
  {
   "cell_type": "code",
   "execution_count": 10,
   "metadata": {
    "collapsed": true
   },
   "outputs": [],
   "source": [
    "cam_0_intervals = get_time_intervalls(cam_0, **time_delta)\n",
    "cam_1_intervals = get_time_intervalls(cam_1, **time_delta)\n",
    "cam_2_intervals = get_time_intervalls(cam_2, **time_delta)\n",
    "cam_3_intervals = get_time_intervalls(cam_3, **time_delta)"
   ]
  },
  {
   "cell_type": "markdown",
   "metadata": {},
   "source": [
    "## Vorbereitung für das Darstellen mittels gTimeline"
   ]
  },
  {
   "cell_type": "code",
   "execution_count": 11,
   "metadata": {
    "collapsed": true
   },
   "outputs": [],
   "source": [
    "cam_0_intervals['index']=cam_0_intervals.index\n",
    "cam_1_intervals['index']=cam_1_intervals.index\n",
    "cam_2_intervals['index']=cam_2_intervals.index\n",
    "cam_3_intervals['index']=cam_3_intervals.index\n",
    "\n",
    "cam_0_intervals['cam_id']='Cam_0'\n",
    "cam_1_intervals['cam_id']='Cam_1'\n",
    "cam_2_intervals['cam_id']='Cam_2'\n",
    "cam_3_intervals['cam_id']='Cam_3'"
   ]
  },
  {
   "cell_type": "code",
   "execution_count": 12,
   "metadata": {
    "collapsed": true
   },
   "outputs": [],
   "source": [
    "intervals_list = [cam_0_intervals, cam_1_intervals, cam_2_intervals, cam_3_intervals] \n",
    "intervals = pd.concat(intervals_list, axis=0, ignore_index=True)"
   ]
  },
  {
   "cell_type": "markdown",
   "metadata": {},
   "source": [
    "-------------------------------------------"
   ]
  },
  {
   "cell_type": "code",
   "execution_count": 13,
   "metadata": {
    "collapsed": true
   },
   "outputs": [],
   "source": [
    "def get_duration(row):\n",
    "    return row['time_end'] - row['time_start']"
   ]
  },
  {
   "cell_type": "code",
   "execution_count": 14,
   "metadata": {
    "collapsed": true
   },
   "outputs": [],
   "source": [
    "intervals['duration']=intervals.apply(get_duration, axis = 1)"
   ]
  },
  {
   "cell_type": "code",
   "execution_count": 15,
   "metadata": {
    "collapsed": true
   },
   "outputs": [],
   "source": [
    "def add_tooltip(row):\n",
    "    string = \"\"\"\n",
    "    <table style=\"font-size:10px\">\n",
    "        <tr>\n",
    "            <td><b>Index:</b></td><td>{index}</td>\n",
    "        </tr>\n",
    "        <tr>\n",
    "            <td><b>Cam ID:</b></td><td>{cam_id}</td>\n",
    "        </tr>\n",
    "        <tr>\n",
    "            <td><b>Start:</b></td> <td>{time_start}</td>\n",
    "        </tr>\n",
    "         <tr>\n",
    "            <td><b>End:</b></td> <td>{time_end}</td>\n",
    "        </tr>\n",
    "        <tr>\n",
    "            <td><b>Duration:</b></td><td>{duration}</td>\n",
    "        </tr>\n",
    "        <tr>\n",
    "            <td><b>Filename Start:</b></td><td>{filename_start}</td>\n",
    "        </tr>\n",
    "        <tr>\n",
    "            <td><b>Filename End:</b></td><td>{filename_end}</td>\n",
    "        </tr>\n",
    "    </table>\n",
    "    \"\"\".format(index=row['index'],\n",
    "               cam_id=row['cam_id'],\n",
    "               time_start=row['time_start'],\n",
    "               time_end=row['time_end'],\n",
    "               duration=row['duration'],\n",
    "               filename_start=row['filename_start'],\n",
    "               filename_end=row['filename_end'])\n",
    "    return string"
   ]
  },
  {
   "cell_type": "code",
   "execution_count": 16,
   "metadata": {
    "collapsed": true
   },
   "outputs": [],
   "source": [
    "intervals['tooltip']=intervals.apply(add_tooltip, axis = 1)"
   ]
  },
  {
   "cell_type": "code",
   "execution_count": 17,
   "metadata": {
    "collapsed": true
   },
   "outputs": [],
   "source": [
    "export_intervals = intervals.copy()"
   ]
  },
  {
   "cell_type": "code",
   "execution_count": 18,
   "metadata": {},
   "outputs": [
    {
     "data": {
      "text/html": [
       "<div>\n",
       "<table border=\"1\" class=\"dataframe\">\n",
       "  <thead>\n",
       "    <tr style=\"text-align: right;\">\n",
       "      <th></th>\n",
       "      <th>time_start</th>\n",
       "      <th>time_end</th>\n",
       "      <th>filename_start</th>\n",
       "      <th>filename_end</th>\n",
       "      <th>index</th>\n",
       "      <th>cam_id</th>\n",
       "      <th>duration</th>\n",
       "      <th>tooltip</th>\n",
       "    </tr>\n",
       "  </thead>\n",
       "  <tbody>\n",
       "    <tr>\n",
       "      <th>0</th>\n",
       "      <td>2016-07-19 12:37:31.470185+00:00</td>\n",
       "      <td>2016-07-19 12:38:14.657679+00:00</td>\n",
       "      <td>Cam_0_2016-07-19T12:37:31.470185Z--2016-07-19T...</td>\n",
       "      <td>Cam_0_2016-07-19T12:37:31.470185Z--2016-07-19T...</td>\n",
       "      <td>0</td>\n",
       "      <td>Cam_0</td>\n",
       "      <td>00:00:43.187494</td>\n",
       "      <td>\\n    &lt;table style=\"font-size:10px\"&gt;\\n        ...</td>\n",
       "    </tr>\n",
       "  </tbody>\n",
       "</table>\n",
       "</div>"
      ],
      "text/plain": [
       "                        time_start                         time_end  \\\n",
       "0 2016-07-19 12:37:31.470185+00:00 2016-07-19 12:38:14.657679+00:00   \n",
       "\n",
       "                                      filename_start  \\\n",
       "0  Cam_0_2016-07-19T12:37:31.470185Z--2016-07-19T...   \n",
       "\n",
       "                                        filename_end  index cam_id  \\\n",
       "0  Cam_0_2016-07-19T12:37:31.470185Z--2016-07-19T...      0  Cam_0   \n",
       "\n",
       "         duration                                            tooltip  \n",
       "0 00:00:43.187494  \\n    <table style=\"font-size:10px\">\\n        ...  "
      ]
     },
     "execution_count": 18,
     "metadata": {},
     "output_type": "execute_result"
    }
   ],
   "source": [
    "export_intervals[:1]"
   ]
  },
  {
   "cell_type": "code",
   "execution_count": 19,
   "metadata": {
    "collapsed": true,
    "scrolled": true
   },
   "outputs": [],
   "source": [
    "export_intervals = export_intervals.drop(['filename_start', 'filename_end', 'duration'], axis=1)"
   ]
  },
  {
   "cell_type": "code",
   "execution_count": 20,
   "metadata": {
    "collapsed": true
   },
   "outputs": [],
   "source": [
    "export_intervals.columns = ['start', 'end', 'bar_label', 'row_label', 'tooltip']"
   ]
  },
  {
   "cell_type": "code",
   "execution_count": 28,
   "metadata": {
    "collapsed": true
   },
   "outputs": [],
   "source": [
    "export_intervals.to_pickle('./derived_data/01_df_cam_intervalls.pkl')"
   ]
  },
  {
   "cell_type": "code",
   "execution_count": 23,
   "metadata": {
    "collapsed": true
   },
   "outputs": [],
   "source": [
    "g_dict = gtwrapper.create_gtimeline_dict(export_intervals, 'row_label', 'bar_label', 'start', 'end', 'tooltip')"
   ]
  },
  {
   "cell_type": "code",
   "execution_count": 29,
   "metadata": {
    "collapsed": true
   },
   "outputs": [],
   "source": [
    "with open('docs/01_video_timeline/data.json', 'w') as fp:\n",
    "    json.dump(g_dict, fp)"
   ]
  },
  {
   "cell_type": "code",
   "execution_count": 30,
   "metadata": {
    "collapsed": true
   },
   "outputs": [],
   "source": [
    "!firefox -p develop docs/01_video_timeline/01_video_timeline.html"
   ]
  },
  {
   "cell_type": "code",
   "execution_count": null,
   "metadata": {
    "collapsed": true
   },
   "outputs": [],
   "source": []
  }
 ],
 "metadata": {
  "kernelspec": {
   "display_name": "Python 3",
   "language": "python",
   "name": "python3"
  },
  "language_info": {
   "codemirror_mode": {
    "name": "ipython",
    "version": 3
   },
   "file_extension": ".py",
   "mimetype": "text/x-python",
   "name": "python",
   "nbconvert_exporter": "python",
   "pygments_lexer": "ipython3",
   "version": "3.5.2"
  }
 },
 "nbformat": 4,
 "nbformat_minor": 2
}
