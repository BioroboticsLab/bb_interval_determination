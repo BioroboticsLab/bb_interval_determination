{
 "cells": [
  {
   "cell_type": "code",
   "execution_count": 1,
   "metadata": {
    "collapsed": true
   },
   "outputs": [],
   "source": [
    "%matplotlib inline\n",
    "import datetime\n",
    "import json\n",
    "\n",
    "import iso8601\n",
    "import pandas as pd\n",
    "\n",
    "import modules.pd_utils as pd_utils\n",
    "import modules.gtimeline_wrapper as gtwrapper"
   ]
  },
  {
   "cell_type": "code",
   "execution_count": 2,
   "metadata": {
    "collapsed": true
   },
   "outputs": [],
   "source": [
    "csv_path = 'derived_data/02_man_marked_moved_frames/manuel_Cam_0.csv'"
   ]
  },
  {
   "cell_type": "code",
   "execution_count": 3,
   "metadata": {
    "collapsed": true
   },
   "outputs": [],
   "source": [
    "df = pd.read_csv(csv_path, sep=';')"
   ]
  },
  {
   "cell_type": "code",
   "execution_count": 4,
   "metadata": {},
   "outputs": [],
   "source": [
    "df_cam_ts_fst = df.apply(lambda row: pd_utils.extract_metadata_videoname(row['first_frame']), axis = 1)\n",
    "df_cam_ts_sec = df.apply(lambda row: pd_utils.extract_metadata_videoname(row['second_frame']), axis = 1)\n",
    "\n",
    "df_cam_ts_fst.columns = ['fst_cam_id', 'fst_ts_start', 'fst_ts_end']\n",
    "df_cam_ts_sec.columns = ['sec_cam_id', 'sec_ts_start', 'sec_ts_end']\n",
    "\n",
    "df = df.merge(df_cam_ts_fst, left_index=True, right_index=True)\n",
    "df = df.merge(df_cam_ts_sec, left_index=True, right_index=True)"
   ]
  },
  {
   "cell_type": "markdown",
   "metadata": {},
   "source": [
    "Die Frames stammen immer aus dem ersten Frame eines Videos, welches um die Uhrzeit 0 aufgenommen wurde. Eine Video wie\n",
    "\n",
    "`Cam_0_2016-07-20T23:55:06.659237Z--2016-07-21T00:00:54.807835Z.jpg`\n",
    "\n",
    "wird als Stellvertreter für den Tag `2016-07-21` betrachtet."
   ]
  },
  {
   "cell_type": "code",
   "execution_count": 5,
   "metadata": {
    "collapsed": true
   },
   "outputs": [],
   "source": [
    "def get_proxy_day_start(row, column):\n",
    "    \"\"\"Retruns the day of the timestamp in `column`\"\"\"\n",
    "    return iso8601.parse_date(row[column].strftime(\"%Y-%m-%d\"))\n",
    "\n",
    "def get_proxy_day_end(row, column):\n",
    "    \"\"\"Retruns the day of the timestamp in `column`\"\"\"\n",
    "    return iso8601.parse_date(row[column].strftime(\"%Y-%m-%d\")) + datetime.timedelta(0, 86340)"
   ]
  },
  {
   "cell_type": "code",
   "execution_count": 6,
   "metadata": {
    "collapsed": true
   },
   "outputs": [],
   "source": [
    "df['proxy_day_start'] = df.apply(lambda row: get_proxy_day_start(row, 'fst_ts_end'), axis = 1)\n",
    "df['proxy_day_end'] = df.apply(lambda row: get_proxy_day_end(row, 'fst_ts_end'), axis = 1 )"
   ]
  },
  {
   "cell_type": "code",
   "execution_count": 7,
   "metadata": {},
   "outputs": [
    {
     "data": {
      "text/html": [
       "<div>\n",
       "<table border=\"1\" class=\"dataframe\">\n",
       "  <thead>\n",
       "    <tr style=\"text-align: right;\">\n",
       "      <th></th>\n",
       "      <th>first_frame</th>\n",
       "      <th>second_frame</th>\n",
       "      <th>moved</th>\n",
       "      <th>fst_cam_id</th>\n",
       "      <th>fst_ts_start</th>\n",
       "      <th>fst_ts_end</th>\n",
       "      <th>sec_cam_id</th>\n",
       "      <th>sec_ts_start</th>\n",
       "      <th>sec_ts_end</th>\n",
       "      <th>proxy_day_start</th>\n",
       "      <th>proxy_day_end</th>\n",
       "    </tr>\n",
       "  </thead>\n",
       "  <tbody>\n",
       "    <tr>\n",
       "      <th>0</th>\n",
       "      <td>Cam_0_2016-07-20T23:55:06.659237Z--2016-07-21T...</td>\n",
       "      <td>Cam_0_2016-07-21T23:57:12.754348Z--2016-07-22T...</td>\n",
       "      <td>1</td>\n",
       "      <td>0</td>\n",
       "      <td>2016-07-20 23:55:06.659237+00:00</td>\n",
       "      <td>2016-07-21 00:00:54.807835+00:00</td>\n",
       "      <td>0</td>\n",
       "      <td>2016-07-21 23:57:12.754348+00:00</td>\n",
       "      <td>2016-07-22 00:02:52.599861+00:00</td>\n",
       "      <td>2016-07-21 00:00:00+00:00</td>\n",
       "      <td>2016-07-21 23:59:00+00:00</td>\n",
       "    </tr>\n",
       "  </tbody>\n",
       "</table>\n",
       "</div>"
      ],
      "text/plain": [
       "                                         first_frame  \\\n",
       "0  Cam_0_2016-07-20T23:55:06.659237Z--2016-07-21T...   \n",
       "\n",
       "                                        second_frame  moved  fst_cam_id  \\\n",
       "0  Cam_0_2016-07-21T23:57:12.754348Z--2016-07-22T...      1           0   \n",
       "\n",
       "                      fst_ts_start                       fst_ts_end  \\\n",
       "0 2016-07-20 23:55:06.659237+00:00 2016-07-21 00:00:54.807835+00:00   \n",
       "\n",
       "   sec_cam_id                     sec_ts_start  \\\n",
       "0           0 2016-07-21 23:57:12.754348+00:00   \n",
       "\n",
       "                        sec_ts_end           proxy_day_start  \\\n",
       "0 2016-07-22 00:02:52.599861+00:00 2016-07-21 00:00:00+00:00   \n",
       "\n",
       "              proxy_day_end  \n",
       "0 2016-07-21 23:59:00+00:00  "
      ]
     },
     "execution_count": 7,
     "metadata": {},
     "output_type": "execute_result"
    }
   ],
   "source": [
    "df[:1]"
   ]
  },
  {
   "cell_type": "markdown",
   "metadata": {},
   "source": [
    "# Vorbereitung für das Darstellen mittels gTimeline"
   ]
  },
  {
   "cell_type": "code",
   "execution_count": 8,
   "metadata": {
    "collapsed": true
   },
   "outputs": [],
   "source": [
    "def add_tooltip(row):\n",
    "    string=\"\"\"\n",
    "    <table style=\"font-size:10px\">\n",
    "        <tr>\n",
    "            <td><b>Moved:</b></td><td>{moved}</td>\n",
    "        </tr>\n",
    "        <tr>\n",
    "            <td><b>Day:</b></td> <td>{day}</td>\n",
    "        </tr>\n",
    "        <tr>\n",
    "            <td><b>1. Reference Image:</b></td> <td>{fst_frame}</td>\n",
    "        </tr>\n",
    "        <tr>\n",
    "            <td><b>2. Reference Image:</b></td> <td>{sec_frame}</td>\n",
    "        </tr>\n",
    "    </table>\n",
    "    \"\"\".format(moved=row['moved'],\n",
    "               day=row['proxy_day_start'].strftime('%Y-%m-%d'),\n",
    "               fst_frame=row['first_frame'],\n",
    "               sec_frame=row['second_frame'])\n",
    "    return string"
   ]
  },
  {
   "cell_type": "code",
   "execution_count": 9,
   "metadata": {
    "collapsed": true
   },
   "outputs": [],
   "source": [
    "df['tooltip'] = df.apply(add_tooltip, axis = 1)\n",
    "df['row_label'] = 'Cam_0 manual marked'"
   ]
  },
  {
   "cell_type": "code",
   "execution_count": 10,
   "metadata": {},
   "outputs": [],
   "source": [
    "export_df = df.copy()\n",
    "export_df = export_df[['row_label','proxy_day_start', 'proxy_day_end','moved', 'tooltip']]\n",
    "export_df.columns=['row_label', 'start', 'end', 'bar_label', 'tooltip']"
   ]
  },
  {
   "cell_type": "code",
   "execution_count": 11,
   "metadata": {},
   "outputs": [],
   "source": [
    "export_df.to_pickle('./derived_data/02_man_marked_moved_frames/df_man_marked.pkl')"
   ]
  },
  {
   "cell_type": "code",
   "execution_count": 12,
   "metadata": {},
   "outputs": [],
   "source": [
    "g_dict = gtwrapper.create_gtimeline_dict(export_df, 'row_label', 'bar_label', 'start', 'end', 'tooltip')\n",
    "\n",
    "with open('docs/02_mark_moved_frames_manual/data.json', 'w') as fp:\n",
    "    json.dump(g_dict, fp)"
   ]
  },
  {
   "cell_type": "code",
   "execution_count": 13,
   "metadata": {
    "collapsed": true
   },
   "outputs": [],
   "source": [
    "!firefox -p develop docs/02_mark_moved_frames_manual/02_mark_moved_frames_manual.html"
   ]
  }
 ],
 "metadata": {
  "kernelspec": {
   "display_name": "Python 3",
   "language": "python",
   "name": "python3"
  },
  "language_info": {
   "codemirror_mode": {
    "name": "ipython",
    "version": 3
   },
   "file_extension": ".py",
   "mimetype": "text/x-python",
   "name": "python",
   "nbconvert_exporter": "python",
   "pygments_lexer": "ipython3",
   "version": "3.5.2"
  }
 },
 "nbformat": 4,
 "nbformat_minor": 2
}
