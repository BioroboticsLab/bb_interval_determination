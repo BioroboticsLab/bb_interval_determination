{
 "cells": [
  {
   "cell_type": "markdown",
   "metadata": {},
   "source": [
    "# What?\n",
    "\n",
    "**Stand:** 27/08/17\n",
    "\n",
    "Bestimmt die Intervalle in welchen sich das Kamerasetup nicht bewegt hat.\n",
    "\n",
    "Der Anfang und Ende eines Intervalls wird über die mittels ECC bestimmte Translation festgestellt. Liegt die Distanz einer Translation über einem bestimmten Schwellwert, wird dies als Veränderung des Kamerasetups gewertet.\n",
    "\n",
    "**Update:**\n",
    "Die Intervall werden hier in mehreren json files abgespeichert. Um diese mit Hilfe von vis.js darzustellen.\n"
   ]
  },
  {
   "cell_type": "code",
   "execution_count": 1,
   "metadata": {},
   "outputs": [],
   "source": [
    "import json\n",
    "\n",
    "import iso8601\n",
    "import pandas as pd\n",
    "\n",
    "import modules.analyse_ecc as aecc\n",
    "\n",
    "path_0 = 'derived_data/03_ecc_similarity_per_video/Cam_0.csv'\n",
    "path_1 = 'derived_data/03_ecc_similarity_per_video/Cam_1.csv'\n",
    "path_2 = 'derived_data/03_ecc_similarity_per_video/Cam_2.csv'\n",
    "path_3 = 'derived_data/03_ecc_similarity_per_video/Cam_3.csv'\n",
    "paths = [path_0, path_1, path_2, path_3]\n",
    "accuracy = 2"
   ]
  },
  {
   "cell_type": "code",
   "execution_count": 2,
   "metadata": {
    "collapsed": true
   },
   "outputs": [],
   "source": [
    "data = []\n",
    "for i, path_cam in enumerate(paths):\n",
    "    item = {}\n",
    "    item[\"cam_id\"] = i\n",
    "    item[\"intervals\"] = aecc.get_intervalls(path_cam, accuracy)\n",
    "    data.append(item)"
   ]
  },
  {
   "cell_type": "code",
   "execution_count": 3,
   "metadata": {
    "collapsed": true
   },
   "outputs": [],
   "source": [
    "json_intervals = []\n",
    "for cam_data in data:\n",
    "    json_interval = []\n",
    "    for i, interval in enumerate(cam_data[\"intervals\"]):\n",
    "        item = {\n",
    "            \"id\":i,\n",
    "            \"start_video_name\": interval.start,\n",
    "            \"end_video_name\": interval.end,\n",
    "            \"info\": interval.info,\n",
    "        }\n",
    "        json_interval.append(item)\n",
    "    json_intervals.append(json_interval)"
   ]
  },
  {
   "cell_type": "code",
   "execution_count": 4,
   "metadata": {
    "collapsed": true
   },
   "outputs": [],
   "source": [
    "for i, cam_interval in enumerate(json_intervals):\n",
    "    with open('./derived_data/03_ecc_similarity_per_video/Cam_{id}_intervals_ecc.json'.format(id=i), 'w') as fp:\n",
    "        json.dump(cam_interval, fp)\n",
    "    with open('./docs/Cam_{id}_intervals_ecc.json'.format(id=i), 'w') as fp:\n",
    "        json.dump(cam_interval, fp)"
   ]
  }
 ],
 "metadata": {
  "kernelspec": {
   "display_name": "Python 3",
   "language": "python",
   "name": "python3"
  },
  "language_info": {
   "codemirror_mode": {
    "name": "ipython",
    "version": 3
   },
   "file_extension": ".py",
   "mimetype": "text/x-python",
   "name": "python",
   "nbconvert_exporter": "python",
   "pygments_lexer": "ipython3",
   "version": "3.5.2"
  }
 },
 "nbformat": 4,
 "nbformat_minor": 2
}
